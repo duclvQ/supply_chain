{
 "cells": [
  {
   "cell_type": "code",
   "execution_count": 6,
   "id": "1e416679-33a9-4022-9f3f-69eb0adb33d4",
   "metadata": {},
   "outputs": [],
   "source": [
    "import pandas as pd\n",
    "import numpy as np\n",
    "from sklearn.model_selection import RandomizedSearchCV,GridSearchCV\n",
    "from sklearn.ensemble import RandomForestClassifier\n",
    "from sklearn.linear_model import LogisticRegression\n",
    "from xgboost import XGBClassifier\n",
    "from lightgbm import LGBMClassifier\n",
    "from sklearn.metrics import confusion_matrix, classification_report,roc_auc_score, ConfusionMatrixDisplay\n",
    "from sklearn.model_selection import train_test_split,cross_val_score,KFold\n",
    "import matplotlib.pyplot as plt\n",
    "import os \n",
    "from sklearn.metrics import roc_curve, auc\n",
    "\n",
    "chose_data = 'full_data_withoud_pro_oder.csv'\n",
    "#chose_data = 'significant_data_05.csv'\n"
   ]
  },
  {
   "cell_type": "code",
   "execution_count": 7,
   "id": "94b168f3-0f45-489b-bc17-3f0268dfa05e",
   "metadata": {},
   "outputs": [
    {
     "name": "stdout",
     "output_type": "stream",
     "text": [
      "the number of sample: 180519\n"
     ]
    },
    {
     "data": {
      "text/plain": [
       "Index(['Benefit per order', 'Latitude', 'Longitude', 'Order Item Discount',\n",
       "       'Category Id', 'Order Item Discount Rate', 'Order Item Product Price',\n",
       "       'Order Item Profit Ratio', 'Order Item Quantity', 'Sales',\n",
       "       'Order Item Total', 'Late_delivery_risk', 'order_weekday',\n",
       "       'shipping_weekday', 'time_delta', 'shipping_mode_int', 'type',\n",
       "       'Sales per customerlog'],\n",
       "      dtype='object')"
      ]
     },
     "execution_count": 7,
     "metadata": {},
     "output_type": "execute_result"
    }
   ],
   "source": [
    "data = pd.read_csv(chose_data)\n",
    "total_data =  len(data.index)\n",
    "print('the number of sample:',total_data)\n",
    "data = data.drop(['Unnamed: 0',  'market_int'], axis = 1)\n",
    "data.keys()"
   ]
  },
  {
   "cell_type": "code",
   "execution_count": 8,
   "id": "0b3b02b4-7a41-4785-b829-c6db7e5d2ed3",
   "metadata": {},
   "outputs": [],
   "source": [
    "x_train,x_test,y_train,y_test = train_test_split(data.drop(['Late_delivery_risk'], axis = 1).values,data['Late_delivery_risk'].values,test_size = 0.3)"
   ]
  },
  {
   "cell_type": "markdown",
   "id": "268997d4-d4dc-4168-9817-a5e1b95691ba",
   "metadata": {},
   "source": [
    "RandomFores"
   ]
  },
  {
   "cell_type": "code",
   "execution_count": null,
   "id": "70104db2-2002-4462-b494-0495d6843ad3",
   "metadata": {},
   "outputs": [],
   "source": []
  },
  {
   "cell_type": "code",
   "execution_count": 11,
   "id": "11fe1459-155d-4114-a9b6-7f42625e09fc",
   "metadata": {},
   "outputs": [],
   "source": [
    "\n",
    "#from sklearn import preprocessing\n",
    "\n",
    "#x_train  = preprocessing.normalize(x_train)\n",
    "#x_test  = preprocessing.normalize(x_test)"
   ]
  },
  {
   "cell_type": "code",
   "execution_count": 12,
   "id": "670fa07d-2f0f-4f6e-a33c-97a86ff01403",
   "metadata": {},
   "outputs": [
    {
     "data": {
      "image/png": "[encoded data removed]",
      "text/plain": [
       "<Figure size 432x288 with 1 Axes>"
      ]
     },
     "metadata": {
      "needs_background": "light"
     },
     "output_type": "display_data"
    }
   ],
   "source": [
    "rf = RandomForestClassifier(bootstrap=True, ccp_alpha=0.0, class_weight=None,\n",
    "                       criterion='gini', max_depth=50, max_features='sqrt',\n",
    "                       min_samples_leaf=2, min_samples_split=5,\n",
    "                       min_weight_fraction_leaf=0.01, n_estimators=100,\n",
    "                       verbose=0, warm_start=True)\n",
    "rf.fit(x_train, y_train)\n",
    "# Train a Random Forest classifier\n",
    "#model = RandomForestClassifier()\n",
    "#model.fit(x_train, y_train)\n",
    "\n",
    "# Predict probabilities for the test set\n",
    "y_prob = rf.predict_proba(x_test)[:, 1]\n",
    "\n",
    "# Compute the false positive rate (FPR), true positive rate (TPR), and thresholds\n",
    "fpr_rf, tpr_rf, thresholds_rf = roc_curve(y_test, y_prob)\n",
    "\n",
    "# Compute the area under the ROC curve (AUC)\n",
    "rf_roc_auc = auc(fpr_rf, tpr_rf)\n",
    "\n",
    "# Plot the ROC curve`\n",
    "plt.figure()\n",
    "plt.plot(fpr_rf, tpr_rf, color='darkorange', lw=2, label=f'ROC curve (AUC = {rf_roc_auc:.2f})')\n",
    "plt.plot([0, 1], [0, 1], color='navy', lw=2, linestyle='--')\n",
    "plt.xlim([0.0, 1.0])\n",
    "plt.ylim([0.0, 1.05])\n",
    "plt.xlabel('False Positive Rate')\n",
    "plt.ylabel('True Positive Rate')\n",
    "#plt.title('Receiver Operating Characteristic (ROC) Curve')\n",
    "plt.legend(loc='lower right')\n",
    "plt.show()"
   ]
  },
  {
   "cell_type": "code",
   "execution_count": null,
   "id": "b66cfd1f-d814-46e7-93e3-75239e8e550e",
   "metadata": {},
   "outputs": [],
   "source": [
    "# biểu thị mức độ quan trọng của feature, cao nhất ứng vs quan trọng nhất \n",
    "plt.figure(figsize=(10,5))\n",
    "print('mức độ quan trọng của feature:', rf.feature_importances_)\n",
    "plt.bar(list(data.drop(['Late_delivery_risk'], axis = 1).keys()),rf.feature_importances_)\n",
    "# Xoay trục x\n",
    "plt.xticks(rotation=45, ha='right')\n",
    "print('feature quan trọng nhất:', list(data.drop(['Late_delivery_risk'], axis = 1).keys())[np.argmax(rf.feature_importances_)])\n",
    "\n",
    "import numpy as np\n",
    "import matplotlib.pyplot as plt\n",
    "\n",
    "# Đoạn code tính toán mức độ quan trọng của features và vẽ biểu đồ\n",
    "feature_importances = rf.feature_importances_\n",
    "feature_names = list(data.drop(['Late_delivery_risk'], axis=1).keys())\n",
    "sorted_indices = np.argsort(feature_importances)[::-1]\n",
    "print(sorted_indices)\n",
    "top_feature_indices = sorted_indices[:5]\n",
    "top_feature_names = [feature_names[i] for i in top_feature_indices]\n",
    "top_feature_importances = feature_importances[top_feature_indices]\n",
    "\n",
    "plt.figure(figsize=(10, 5))\n",
    "plt.bar(top_feature_names, top_feature_importances)\n",
    "plt.xticks(rotation=45, ha='right')\n",
    "plt.xlabel('Features')\n",
    "plt.ylabel('Importance')\n",
    "plt.title('Top 5 Important Features in RF')\n",
    "plt.savefig('top_5_important_features_RF_without .png')\n",
    "plt.show()\n"
   ]
  },
  {
   "cell_type": "code",
   "execution_count": null,
   "id": "3633e279-b823-4817-b494-ebd853796b16",
   "metadata": {},
   "outputs": [],
   "source": [
    "y_pred = rf.predict(x_test)\n",
    "cm = confusion_matrix(y_test,y_pred)\n",
    "print(cm)\n",
    "print(classification_report(y_test,y_pred))\n",
    "print(roc_auc_score(y_test,y_pred))"
   ]
  },
  {
   "cell_type": "code",
   "execution_count": null,
   "id": "c0998da8-ee5a-4b57-b6e4-ae61ba66bc6f",
   "metadata": {},
   "outputs": [],
   "source": [
    "import numpy as np\n",
    "#cm = np.asarray(cm)\n",
    "#cm = cm/cm.sum(axis=1)\n",
    "for i in range(len(cm)):\n",
    "    for j in range(len(cm)):\n",
    "        cm[i][j] = round(cm[i][j],2)\n",
    "        \n",
    "plt.figure()\n",
    "fig, ax = plt.subplots(figsize=(8,6), dpi=100)\n",
    "\n",
    "# initialize using the raw 2D confusion matrix \n",
    "# and output labels (in our case, it's 0 and 1)\n",
    "display = ConfusionMatrixDisplay(cm, display_labels=model.classes_)\n",
    "\n",
    "# set the plot title using the axes object\n",
    "#ax.set(title='Confusion Matrix for the Diabetes Detection Model')\n",
    "\n",
    "# show the plot. \n",
    "# Pass the parameter ax to show customizations (ex. title) \n",
    "display.plot(ax=ax)\n",
    "fig.savefig('confusion_matrix_RF_main.png')\n"
   ]
  },
  {
   "cell_type": "code",
   "execution_count": null,
   "id": "aa9da10c-8663-465b-b218-d741b10d2317",
   "metadata": {},
   "outputs": [],
   "source": []
  },
  {
   "cell_type": "code",
   "execution_count": 77,
   "id": "47e62e20-a369-4efa-bba4-7fbbc398d670",
   "metadata": {},
   "outputs": [
    {
     "data": {
      "image/png": "[encoded data removed]",
      "text/plain": [
       "<Figure size 432x288 with 1 Axes>"
      ]
     },
     "metadata": {
      "needs_background": "light"
     },
     "output_type": "display_data"
    }
   ],
   "source": [
    "xgb = XGBClassifier(base_score=0.5, booster=None, colsample_bylevel=1,\n",
    "              colsample_bynode=1, colsample_bytree=0.8, gamma=0.1, gpu_id=-1,\n",
    "              importance_type='gain', interaction_constraints=None,\n",
    "              learning_rate=0.1, max_delta_step=0, max_depth=5,\n",
    "              min_child_weight=1, monotone_constraints=None,\n",
    "              n_estimators=140, n_jobs=4, nthread=4, num_parallel_tree=1,\n",
    "              objective='binary:logistic', random_state=27, reg_alpha=0,\n",
    "              reg_lambda=1, scale_pos_weight=1, seed=27, subsample=0.8,\n",
    "              tree_method=None, validate_parameters=False, verbosity=None)\n",
    "xgb.fit(x_train,y_train)\n",
    "# Predict probabilities for the test set\n",
    "y_prob = xgb.predict_proba(x_test)[:, 1]\n",
    "\n",
    "# Compute the false positive rate (FPR), true positive rate (TPR), and thresholds\n",
    "xgb_fpr, xgb_tpr, xgb_thresholds = roc_curve(y_test, y_prob)\n",
    "\n",
    "# Compute the area under the ROC curve (AUC)\n",
    "xgb_roc_auc = auc(xgb_fpr, xgb_tpr)\n",
    "\n",
    "# Plot the ROC curve\n",
    "plt.figure()\n",
    "plt.plot(xgb_fpr, xgb_tpr, color='darkorange', lw=2, label=f'ROC curve (AUC = {roc_auc:.2f})')\n",
    "plt.plot([0, 1], [0, 1], color='navy', lw=2, linestyle='--')\n",
    "plt.xlim([0.0, 1.0])\n",
    "plt.ylim([0.0, 1.05])\n",
    "plt.xlabel('False Positive Rate')\n",
    "plt.ylabel('True Positive Rate')\n",
    "#plt.title('Receiver Operating Characteristic (ROC) Curve')\n",
    "plt.legend(loc='lower right')\n",
    "plt.show()"
   ]
  },
  {
   "cell_type": "code",
   "execution_count": 56,
   "id": "12469206-55b0-44d8-9522-4d61107703a9",
   "metadata": {},
   "outputs": [
    {
     "name": "stdout",
     "output_type": "stream",
     "text": [
      "[[23254  1254]\n",
      " [   81 29567]]\n",
      "              precision    recall  f1-score   support\n",
      "\n",
      "           0       1.00      0.95      0.97     24508\n",
      "           1       0.96      1.00      0.98     29648\n",
      "\n",
      "    accuracy                           0.98     54156\n",
      "   macro avg       0.98      0.97      0.98     54156\n",
      "weighted avg       0.98      0.98      0.98     54156\n",
      "\n",
      "0.9730504889930542\n"
     ]
    }
   ],
   "source": [
    "y_pred = xgb.predict(x_test)\n",
    "cm = confusion_matrix(y_test,y_pred)\n",
    "print(cm)\n",
    "print(classification_report(y_test,y_pred))\n",
    "print(roc_auc_score(y_test,y_pred))"
   ]
  },
  {
   "cell_type": "code",
   "execution_count": 58,
   "id": "5b67d458-b746-4322-bdaf-4a440893ed75",
   "metadata": {},
   "outputs": [
    {
     "data": {
      "text/plain": [
       "<Figure size 432x288 with 0 Axes>"
      ]
     },
     "metadata": {},
     "output_type": "display_data"
    },
    {
     "data": {
      "image/png": "[encoded data removed]",
      "text/plain": [
       "<Figure size 800x600 with 2 Axes>"
      ]
     },
     "metadata": {
      "needs_background": "light"
     },
     "output_type": "display_data"
    }
   ],
   "source": [
    "import numpy as np\n",
    "#cm = np.asarray(cm)\n",
    "cm = cm/cm.sum(axis=1)\n",
    "for i in range(len(cm)):\n",
    "    for j in range(len(cm)):\n",
    "        cm[i][j] = round(cm[i][j],2)\n",
    "        \n",
    "plt.figure()\n",
    "fig, ax = plt.subplots(figsize=(8,6), dpi=100)\n",
    "\n",
    "# initialize using the raw 2D confusion matrix \n",
    "# and output labels (in our case, it's 0 and 1)\n",
    "display = ConfusionMatrixDisplay(cm, display_labels=model.classes_)\n",
    "\n",
    "# set the plot title using the axes object\n",
    "#ax.set(title='Confusion Matrix for the Diabetes Detection Model')\n",
    "\n",
    "# show the plot. \n",
    "# Pass the parameter ax to show customizations (ex. title) \n",
    "display.plot(ax=ax)\n",
    "fig.savefig('confusion_matrix_XGB_main.png')\n"
   ]
  },
  {
   "cell_type": "code",
   "execution_count": 60,
   "id": "8b6345e4-b989-4402-a350-78f6eaac4e4c",
   "metadata": {},
   "outputs": [
    {
     "data": {
      "image/png": "[encoded data removed]",
      "text/plain": [
       "<Figure size 720x360 with 1 Axes>"
      ]
     },
     "metadata": {
      "needs_background": "light"
     },
     "output_type": "display_data"
    }
   ],
   "source": [
    "import numpy as np\n",
    "import matplotlib.pyplot as plt\n",
    "\n",
    "# Đoạn code tính toán mức độ quan trọng của features và vẽ biểu đồ\n",
    "feature_importances = xgb.feature_importances_\n",
    "feature_names = list(data.drop(['Late_delivery_risk'], axis=1).keys())\n",
    "sorted_indices = np.argsort(feature_importances)[::-1]\n",
    "top_feature_indices = sorted_indices[:5]\n",
    "top_feature_names = [feature_names[i] for i in top_feature_indices]\n",
    "top_feature_importances = feature_importances[top_feature_indices]\n",
    "\n",
    "plt.figure(figsize=(10, 5))\n",
    "plt.bar(top_feature_names, top_feature_importances)\n",
    "plt.xticks(rotation=45, ha='right')\n",
    "plt.xlabel('Features')\n",
    "plt.ylabel('Importance')\n",
    "plt.title('Top 5 Important Features')\n",
    "plt.savefig('top_5_important_features_xgb.png')\n",
    "plt.show()\n"
   ]
  },
  {
   "cell_type": "code",
   "execution_count": null,
   "id": "76b44973-d08f-484f-aa3b-d05215f10b78",
   "metadata": {},
   "outputs": [],
   "source": []
  },
  {
   "cell_type": "markdown",
   "id": "c9efb697-2811-4d74-94a8-7f00b3d08e86",
   "metadata": {},
   "source": [
    "*logistic regression\n"
   ]
  },
  {
   "cell_type": "code",
   "execution_count": null,
   "id": "a14f1191-69b4-408a-953d-4ff89c3d7fae",
   "metadata": {
    "tags": []
   },
   "outputs": [
    {
     "name": "stdout",
     "output_type": "stream",
     "text": [
      "Accuracy: 0.9515289164635498\n",
      "              precision    recall  f1-score   support\n",
      "\n",
      "           0       0.94      0.95      0.95     24415\n",
      "           1       0.96      0.95      0.96     29741\n",
      "\n",
      "    accuracy                           0.95     54156\n",
      "   macro avg       0.95      0.95      0.95     54156\n",
      "weighted avg       0.95      0.95      0.95     54156\n",
      "\n"
     ]
    }
   ],
   "source": [
    "from sklearn.linear_model import LogisticRegression\n",
    "from sklearn.model_selection import train_test_split\n",
    "from sklearn.metrics import accuracy_score\n",
    "#lg = LogisticRegression(penalty='elasticnet', solver='saga', l1_ratio=0.5)\n",
    "x_train,x_test,y_train,y_test = train_test_split(data.drop(['Late_delivery_risk'], axis = 1).values,data['Late_delivery_risk'].values,test_size = 0.3)\n",
    "# Create a Logistic Regression classifier\n",
    "lg = LogisticRegression(penalty='l1', solver='liblinear')\n",
    "\n",
    "# Train the classifier\n",
    "lg.fit(x_train, y_train)\n",
    "\n",
    "# Make predictions on the test set\n",
    "y_pred = lg.predict(x_test)\n",
    "\n",
    "\n",
    "# Evaluate the accuracy of the model\n",
    "accuracy = accuracy_score(y_test, y_pred)\n",
    "print(\"Accuracy:\", accuracy)\n",
    "print(classification_report(y_test, y_pred))"
   ]
  },
  {
   "cell_type": "code",
   "execution_count": 78,
   "id": "162913e4-5ada-41ce-a28c-cd8c3e25eaf4",
   "metadata": {},
   "outputs": [
    {
     "data": {
      "image/png": "[encoded data removed]",
      "text/plain": [
       "<Figure size 432x288 with 1 Axes>"
      ]
     },
     "metadata": {
      "needs_background": "light"
     },
     "output_type": "display_data"
    }
   ],
   "source": [
    "# Predict probabilities for the test set\n",
    "y_prob = lg.predict_proba(x_test)[:, 1]\n",
    "\n",
    "# Compute the false positive rate (FPR), true positive rate (TPR), and thresholds\n",
    "fpr_lg, tpr_lg, thresholds_lg = roc_curve(y_test, y_prob)\n",
    "\n",
    "# Compute the area under the ROC curve (AUC)\n",
    "lg_roc_auc = auc(fpr_lg, tpr_lg)\n",
    "\n",
    "# Plot the ROC curve\n",
    "plt.figure()\n",
    "plt.plot(fpr_lg, tpr_lg, color='darkorange', lw=2, label=f'ROC curve (AUC = {roc_auc:.2f})')\n",
    "plt.plot([0, 1], [0, 1], color='navy', lw=2, linestyle='--')\n",
    "plt.xlim([0.0, 1.0])\n",
    "plt.ylim([0.0, 1.05])\n",
    "plt.xlabel('False Positive Rate')\n",
    "plt.ylabel('True Positive Rate')\n",
    "#plt.title('Receiver Operating Characteristic (ROC) Curve')\n",
    "plt.legend(loc='lower right')\n",
    "plt.show()"
   ]
  },
  {
   "cell_type": "code",
   "execution_count": 21,
   "id": "3d4d84ef-54e6-4d3a-9b2b-8f0fbd1c3c17",
   "metadata": {},
   "outputs": [
    {
     "data": {
      "text/plain": [
       "<AxesSubplot:title={'center':'Feature Importance'}>"
      ]
     },
     "execution_count": 21,
     "metadata": {},
     "output_type": "execute_result"
    },
    {
     "data": {
      "image/png": "[encoded data removed]",
      "text/plain": [
       "<Figure size 432x288 with 1 Axes>"
      ]
     },
     "metadata": {
      "needs_background": "light"
     },
     "output_type": "display_data"
    }
   ],
   "source": [
    "# biểu thị mức độ quan trọng của feature, cao nhất ứng vs quan trọng nhất \n",
    "\n",
    "importance = clf.coef_[0]\n",
    "#importance is a list so you can plot it. \n",
    "feat_importances = pd.Series(importance)\n",
    "feat_importances.nlargest(20).plot(kind='barh',title = 'Feature Importance')"
   ]
  },
  {
   "cell_type": "code",
   "execution_count": null,
   "id": "9b19f3ef-e556-480b-884b-b6fd23cc4111",
   "metadata": {},
   "outputs": [],
   "source": []
  },
  {
   "cell_type": "code",
   "execution_count": null,
   "id": "c177e74a-d55f-4118-bfb7-e06ae858effc",
   "metadata": {},
   "outputs": [],
   "source": []
  },
  {
   "cell_type": "code",
   "execution_count": null,
   "id": "7b1c670d-90d5-426c-9bfe-a18c9451bf29",
   "metadata": {},
   "outputs": [],
   "source": []
  },
  {
   "cell_type": "markdown",
   "id": "3ebf0555-7eb1-4cf7-8ea8-79391b7b698e",
   "metadata": {},
   "source": [
    "*SVM"
   ]
  },
  {
   "cell_type": "code",
   "execution_count": 70,
   "id": "bb65946b-3717-4b26-9379-5dac78bd1f09",
   "metadata": {},
   "outputs": [
    {
     "name": "stdout",
     "output_type": "stream",
     "text": [
      "[[23094  1321]\n",
      " [  119 29622]]\n",
      "              precision    recall  f1-score   support\n",
      "\n",
      "           0       0.99      0.95      0.97     24415\n",
      "           1       0.96      1.00      0.98     29741\n",
      "\n",
      "    accuracy                           0.97     54156\n",
      "   macro avg       0.98      0.97      0.97     54156\n",
      "weighted avg       0.97      0.97      0.97     54156\n",
      "\n",
      "0.9709463536116705\n"
     ]
    },
    {
     "data": {
      "text/plain": [
       "0.9734101484600044"
      ]
     },
     "execution_count": 70,
     "metadata": {},
     "output_type": "execute_result"
    }
   ],
   "source": [
    "import numpy as np\n",
    "from sklearn.pipeline import make_pipeline\n",
    "from sklearn.preprocessing import StandardScaler\n",
    "\n",
    "from sklearn.svm import SVC\n",
    "svm = make_pipeline(StandardScaler(), SVC())\n",
    "svm.fit(x_train, y_train)\n",
    "#clf.predict(X[:2, :])\n",
    "\n",
    "#clf.predict_proba(X[:2, :])\n",
    "\n",
    "y_pred = svm.predict(x_test)\n",
    "cm = confusion_matrix(y_test,y_pred)\n",
    "print(cm)\n",
    "print(classification_report(y_test,y_pred))\n",
    "print(roc_auc_score(y_test,y_pred))\n",
    "svm.score(x_test, y_test)\n"
   ]
  },
  {
   "cell_type": "code",
   "execution_count": 71,
   "id": "92522b56-0f27-4f0f-b005-cbd483df8191",
   "metadata": {},
   "outputs": [
    {
     "data": {
      "image/png": "[encoded data removed]",
      "text/plain": [
       "<Figure size 432x288 with 1 Axes>"
      ]
     },
     "metadata": {
      "needs_background": "light"
     },
     "output_type": "display_data"
    }
   ],
   "source": [
    "# Predict probabilities for the test set\n",
    "y_prob =  svm.decision_function(x_test)\n",
    "\n",
    "# Compute the false positive rate (FPR), true positive rate (TPR), and thresholds\n",
    "fpr_svm, tpr_svm, thresholds_svm = roc_curve(y_test, y_prob)\n",
    "\n",
    "# Compute the area under the ROC curve (AUC)\n",
    "roc_auc = auc(fpr_svm, tpr_svm)\n",
    "\n",
    "# Plot the ROC curve\n",
    "plt.figure()\n",
    "plt.plot(fpr_svm, tpr_svm, color='darkorange', lw=2, label=f'ROC curve (AUC = {roc_auc:.2f})')\n",
    "plt.plot([0, 1], [0, 1], color='navy', lw=2, linestyle='--')\n",
    "plt.xlim([0.0, 1.0])\n",
    "plt.ylim([0.0, 1.05])\n",
    "plt.xlabel('False Positive Rate')\n",
    "plt.ylabel('True Positive Rate')\n",
    "#plt.title('Receiver Operating Characteristic (ROC) Curve')\n",
    "plt.legend(loc='lower right')\n",
    "plt.show()"
   ]
  },
  {
   "cell_type": "code",
   "execution_count": 79,
   "id": "1622a7ce-b593-4e4f-97b0-9d934ee7dabb",
   "metadata": {},
   "outputs": [
    {
     "data": {
      "image/png": "[encoded data removed]",
      "text/plain": [
       "<Figure size 360x360 with 1 Axes>"
      ]
     },
     "metadata": {
      "needs_background": "light"
     },
     "output_type": "display_data"
    }
   ],
   "source": [
    "# Plot the ROC curve\n",
    "plt.figure(figsize=(5,5))\n",
    "plt.plot(fpr_svm, tpr_svm, color='darkorange', lw=2, label=f'SVM (AUC = {roc_auc:.2f})')\n",
    "plt.plot(fpr_rf, tpr_rf, color='green', lw=2, label=f'RF (AUC = {rf_roc_auc:.2f})')\n",
    "plt.plot(xgb_fpr, xgb_tpr, color='red', lw=2, label=f'XGB (AUC = {xgb_roc_auc:.2f})')\n",
    "plt.plot(fpr_lg, tpr_lg, color='blue', lw=2, label=f'LG = {lg_roc_auc:.2f})')\n",
    "plt.plot([0, 1], [0, 1], color='navy', lw=2, linestyle='--')\n",
    "plt.xlim([0.0, 1.0])\n",
    "plt.ylim([0.0, 1.05])\n",
    "plt.xlabel('False Positive Rate')\n",
    "plt.ylabel('True Positive Rate')\n",
    "#plt.title('Receiver Operating Characteristic (ROC) Curve')\n",
    "plt.legend(loc='lower right')\n",
    "plt.savefig('ROC_curve.png')\n",
    "plt.show()"
   ]
  },
  {
   "cell_type": "code",
   "execution_count": null,
   "id": "feaf2848-23ac-4837-a2b0-1d90c8160658",
   "metadata": {},
   "outputs": [],
   "source": [
    "print(classification_report(y_test, y_pred))"
   ]
  },
  {
   "cell_type": "code",
   "execution_count": null,
   "id": "3f535d5d-ff42-400f-a1ea-d5a0d2ff06bf",
   "metadata": {},
   "outputs": [],
   "source": []
  },
  {
   "cell_type": "code",
   "execution_count": null,
   "id": "5a9cfcca-7e97-4d16-98d2-6e74d7efc583",
   "metadata": {},
   "outputs": [],
   "source": []
  },
  {
   "cell_type": "code",
   "execution_count": null,
   "id": "1b08eec8-d045-44c1-8eec-655dfbe19e71",
   "metadata": {},
   "outputs": [],
   "source": []
  },
  {
   "cell_type": "markdown",
   "id": "8de7e756-a308-4eaf-a1f3-948ddf719e85",
   "metadata": {},
   "source": [
    "KNN"
   ]
  },
  {
   "cell_type": "code",
   "execution_count": null,
   "id": "67be716b-d95f-4d8f-8876-c10fb35dd3b1",
   "metadata": {},
   "outputs": [],
   "source": []
  },
  {
   "cell_type": "code",
   "execution_count": null,
   "id": "d64b0379-32c9-4008-b9b2-826e551ee864",
   "metadata": {},
   "outputs": [],
   "source": [
    "from sklearn.neighbors import KNeighborsClassifier\n",
    "# Create a KNN classifier object\n",
    "knn = KNeighborsClassifier(n_neighbors=30)  # Specify the number of neighbors (K)\n",
    "\n",
    "# Train the classifier\n",
    "knn.fit(x_train, y_train)\n",
    "\n",
    "# Make predictions on the test set\n",
    "y_pred = knn.predict(x_test)\n",
    "\n",
    "from sklearn.metrics import accuracy_score\n",
    "# Evaluate the accuracy of the classifier\n",
    "accuracy = accuracy_score(y_test, y_pred)\n",
    "print(\"Accuracy:\", accuracy)"
   ]
  },
  {
   "cell_type": "code",
   "execution_count": null,
   "id": "e23b7287-5bdb-43d7-a83a-43aa2d9ff3c7",
   "metadata": {},
   "outputs": [],
   "source": [
    "print(classification_report(y_test, y_pred))"
   ]
  },
  {
   "cell_type": "code",
   "execution_count": null,
   "id": "16f99191-d7f3-4cdb-bfb6-b38e9ae4212f",
   "metadata": {},
   "outputs": [],
   "source": []
  },
  {
   "cell_type": "markdown",
   "id": "f641931d-5083-4dc3-9318-da85bcaae0de",
   "metadata": {},
   "source": [
    "Linear Discriminant Analysis (LDA)"
   ]
  },
  {
   "cell_type": "code",
   "execution_count": null,
   "id": "be5759b2-ef73-44d6-8882-9a5a59780adf",
   "metadata": {},
   "outputs": [],
   "source": [
    "from sklearn.discriminant_analysis import LinearDiscriminantAnalysis\n",
    "from sklearn.model_selection import train_test_split\n",
    "from sklearn.metrics import accuracy_score\n",
    "\n",
    "# Assuming you have your data in X (features) and y (labels)\n",
    "# Split the data into training and testing sets\n",
    "#X_train, X_test, y_train, y_test = train_test_split(X, y, test_size=0.2, random_state=42)\n",
    "\n",
    "# Create an LDA classifier object\n",
    "lda = LinearDiscriminantAnalysis()\n",
    "\n",
    "# Fit the LDA model on the training data\n",
    "lda.fit(x_train, y_train)\n",
    "\n",
    "# Make predictions on the test set\n",
    "y_pred = lda.predict(x_test)\n",
    "\n",
    "# Evaluate the accuracy of the classifier\n",
    "accuracy = accuracy_score(y_test, y_pred)\n",
    "print(\"Accuracy:\", accuracy)\n",
    "y_pred = model.predict(x_test)\n",
    "cm = confusion_matrix(y_test,y_pred)\n",
    "print(cm)\n",
    "print(classification_report(y_test,y_pred))\n",
    "print(roc_auc_score(y_test,y_pred))\n",
    "#model.score(x_train, y_train)"
   ]
  },
  {
   "cell_type": "code",
   "execution_count": null,
   "id": "eb2e64fe-cd91-46f0-a38f-a5d7867c97f5",
   "metadata": {},
   "outputs": [],
   "source": []
  },
  {
   "cell_type": "code",
   "execution_count": null,
   "id": "15d58779-2a22-46f6-b3ee-8458887eb4da",
   "metadata": {},
   "outputs": [],
   "source": []
  },
  {
   "cell_type": "code",
   "execution_count": null,
   "id": "088519a6-67ee-44a5-b692-4134fe48b110",
   "metadata": {},
   "outputs": [],
   "source": []
  },
  {
   "cell_type": "code",
   "execution_count": null,
   "id": "d9678846-e8b7-4307-b7d8-5c720dab911f",
   "metadata": {},
   "outputs": [],
   "source": []
  },
  {
   "cell_type": "code",
   "execution_count": null,
   "id": "3e54459f-db37-4c7d-a3aa-1b20a2045c2e",
   "metadata": {},
   "outputs": [],
   "source": []
  },
  {
   "cell_type": "code",
   "execution_count": null,
   "id": "62244e27-e8fc-42d4-aa65-bb26060b2a39",
   "metadata": {},
   "outputs": [],
   "source": []
  },
  {
   "cell_type": "code",
   "execution_count": null,
   "id": "56409654-2f92-403c-892d-ee1dcca06e27",
   "metadata": {},
   "outputs": [],
   "source": []
  },
  {
   "cell_type": "code",
   "execution_count": null,
   "id": "27fc9cf1-b17a-4c2a-8ff2-d7e80cae8f3c",
   "metadata": {},
   "outputs": [],
   "source": []
  },
  {
   "cell_type": "code",
   "execution_count": null,
   "id": "2e91d987-9d83-457c-9aae-6a1a9932ffcb",
   "metadata": {},
   "outputs": [],
   "source": []
  }
 ],
 "metadata": {
  "kernelspec": {
   "display_name": "Python 3 (ipykernel)",
   "language": "python",
   "name": "python3"
  },
  "language_info": {
   "codemirror_mode": {
    "name": "ipython",
    "version": 3
   },
   "file_extension": ".py",
   "mimetype": "text/x-python",
   "name": "python",
   "nbconvert_exporter": "python",
   "pygments_lexer": "ipython3",
   "version": "3.9.12"
  }
 },
 "nbformat": 4,
 "nbformat_minor": 5
}
