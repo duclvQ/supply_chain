{
 "cells": [
  {
   "cell_type": "code",
   "execution_count": 1,
   "id": "1e416679-33a9-4022-9f3f-69eb0adb33d4",
   "metadata": {},
   "outputs": [],
   "source": [
    "import pandas as pd\n",
    "import numpy as np\n",
    "from sklearn.model_selection import RandomizedSearchCV,GridSearchCV\n",
    "from sklearn.ensemble import RandomForestClassifier\n",
    "from sklearn.linear_model import LogisticRegression\n",
    "from xgboost import XGBClassifier\n",
    "from lightgbm import LGBMClassifier\n",
    "from sklearn.metrics import confusion_matrix, classification_report,roc_auc_score, ConfusionMatrixDisplay\n",
    "from sklearn.model_selection import train_test_split,cross_val_score,KFold\n",
    "import matplotlib.pyplot as plt\n",
    "import os \n",
    "\n",
    "chose_data = 'full_data_without_shippingdate.csv'\n",
    "#chose_data = 'significant_data_05.csv'\n"
   ]
  },
  {
   "cell_type": "code",
   "execution_count": 2,
   "id": "94b168f3-0f45-489b-bc17-3f0268dfa05e",
   "metadata": {},
   "outputs": [
    {
     "name": "stdout",
     "output_type": "stream",
     "text": [
      "the number of sample: 180519\n"
     ]
    }
   ],
   "source": [
    "data = pd.read_csv(chose_data)\n",
    "total_data =  len(data.index)\n",
    "print('the number of sample:',total_data)"
   ]
  },
  {
   "cell_type": "code",
   "execution_count": 3,
   "id": "1cf90408-f91e-4e49-8976-ab92d6c4d1f7",
   "metadata": {},
   "outputs": [],
   "source": [
    "# split train/test set into 0.75:0.25 (3:1)\n",
    "#train_set = data.iloc[:int(total_data*0.75)]\n",
    "#test_set = data.iloc[int(total_data*0.75):]"
   ]
  },
  {
   "cell_type": "code",
   "execution_count": 4,
   "id": "7336f46e-8485-40c8-8d17-da22d6d263a5",
   "metadata": {},
   "outputs": [],
   "source": [
    "#train_y, train_X = train_set['Late_delivery_risk'], train_set.drop(columns=['Late_delivery_risk'])\n",
    "#test_y, test_X = test_set['Late_delivery_risk'], test_set.drop(columns=['Late_delivery_risk'])"
   ]
  },
  {
   "cell_type": "code",
   "execution_count": 6,
   "id": "0b3b02b4-7a41-4785-b829-c6db7e5d2ed3",
   "metadata": {},
   "outputs": [],
   "source": [
    "x_train,x_test,y_train,y_test = train_test_split(data.drop('Late_delivery_risk', axis = 1).values,data['Late_delivery_risk'].values,test_size = 0.5)"
   ]
  },
  {
   "cell_type": "markdown",
   "id": "e07742a2-34cd-49ce-a266-c87ecfea0cb8",
   "metadata": {},
   "source": [
    "Random Forest"
   ]
  },
  {
   "cell_type": "code",
   "execution_count": 6,
   "id": "670fa07d-2f0f-4f6e-a33c-97a86ff01403",
   "metadata": {},
   "outputs": [],
   "source": [
    "rf = RandomForestClassifier(bootstrap=True, ccp_alpha=0.0, class_weight=None,\n",
    "                       criterion='gini', max_depth=50, max_features='sqrt',\n",
    "                       min_samples_leaf=2, min_samples_split=5,\n",
    "                       min_weight_fraction_leaf=0.01, n_estimators=100,\n",
    "                       verbose=0, warm_start=True)\n",
    "model = rf.fit(x_train, y_train)"
   ]
  },
  {
   "cell_type": "code",
   "execution_count": 7,
   "id": "b66cfd1f-d814-46e7-93e3-75239e8e550e",
   "metadata": {},
   "outputs": [
    {
     "data": {
      "text/plain": [
       "array([0.60701988, 0.06361141, 0.05699019, 0.01173868, 0.01424862,\n",
       "       0.02621224, 0.0096015 , 0.01079661, 0.19978087])"
      ]
     },
     "execution_count": 7,
     "metadata": {},
     "output_type": "execute_result"
    }
   ],
   "source": [
    "rf.feature_importances_"
   ]
  },
  {
   "cell_type": "code",
   "execution_count": 8,
   "id": "3633e279-b823-4817-b494-ebd853796b16",
   "metadata": {},
   "outputs": [
    {
     "name": "stdout",
     "output_type": "stream",
     "text": [
      "[[11188 29666]\n",
      " [ 7334 42072]]\n",
      "              precision    recall  f1-score   support\n",
      "\n",
      "           0       0.60      0.27      0.38     40854\n",
      "           1       0.59      0.85      0.69     49406\n",
      "\n",
      "    accuracy                           0.59     90260\n",
      "   macro avg       0.60      0.56      0.54     90260\n",
      "weighted avg       0.59      0.59      0.55     90260\n",
      "\n",
      "0.5627048622899755\n"
     ]
    }
   ],
   "source": [
    "y_pred = model.predict(x_test)\n",
    "cm = confusion_matrix(y_test,y_pred)\n",
    "print(cm)\n",
    "print(classification_report(y_test,y_pred))\n",
    "print(roc_auc_score(y_test,y_pred))"
   ]
  },
  {
   "cell_type": "code",
   "execution_count": 9,
   "id": "c0998da8-ee5a-4b57-b6e4-ae61ba66bc6f",
   "metadata": {},
   "outputs": [
    {
     "data": {
      "text/plain": [
       "<Figure size 432x288 with 0 Axes>"
      ]
     },
     "metadata": {},
     "output_type": "display_data"
    },
    {
     "data": {
      "image/png": "[encoded data removed]",
      "text/plain": [
       "<Figure size 800x600 with 2 Axes>"
      ]
     },
     "metadata": {
      "needs_background": "light"
     },
     "output_type": "display_data"
    }
   ],
   "source": [
    "import numpy as np\n",
    "#cm = np.asarray(cm)\n",
    "cm = cm/cm.sum(axis=1)\n",
    "for i in range(len(cm)):\n",
    "    for j in range(len(cm)):\n",
    "        cm[i][j] = round(cm[i][j],2)\n",
    "        \n",
    "plt.figure()\n",
    "fig, ax = plt.subplots(figsize=(8,6), dpi=100)\n",
    "\n",
    "# initialize using the raw 2D confusion matrix \n",
    "# and output labels (in our case, it's 0 and 1)\n",
    "display = ConfusionMatrixDisplay(cm, display_labels=model.classes_)\n",
    "\n",
    "# set the plot title using the axes object\n",
    "ax.set(title='Confusion Matrix for the Diabetes Detection Model')\n",
    "\n",
    "# show the plot. \n",
    "# Pass the parameter ax to show customizations (ex. title) \n",
    "display.plot(ax=ax)\n",
    "fig.savefig('t.png')\n"
   ]
  },
  {
   "cell_type": "code",
   "execution_count": null,
   "id": "6419fd5a-a2e7-41b3-9ae0-3a4bbdf5e162",
   "metadata": {},
   "outputs": [],
   "source": [
    "#nhìn key để biết feature nào quan tnọng\n",
    "data.keys()"
   ]
  },
  {
   "cell_type": "code",
   "execution_count": 11,
   "id": "363bc37f-e06c-4120-a8ea-5d18e2cd3061",
   "metadata": {},
   "outputs": [
    {
     "data": {
      "text/plain": [
       "array([0.60701988, 0.06361141, 0.05699019, 0.01173868, 0.01424862,\n",
       "       0.02621224, 0.0096015 , 0.01079661, 0.19978087])"
      ]
     },
     "execution_count": 11,
     "metadata": {},
     "output_type": "execute_result"
    }
   ],
   "source": [
    "rf.feature_importances_"
   ]
  },
  {
   "cell_type": "markdown",
   "id": "9499d2ca-35eb-42ff-bafd-fd5a5c2e3bf4",
   "metadata": {},
   "source": [
    "XGB"
   ]
  },
  {
   "cell_type": "code",
   "execution_count": 8,
   "id": "aa9da10c-8663-465b-b218-d741b10d2317",
   "metadata": {},
   "outputs": [],
   "source": [
    "from sklearn import preprocessing\n",
    "\n",
    "x_train  = preprocessing.normalize(x_train)\n",
    "x_test  = preprocessing.normalize(x_test)"
   ]
  },
  {
   "cell_type": "code",
   "execution_count": 9,
   "id": "47e62e20-a369-4efa-bba4-7fbbc398d670",
   "metadata": {},
   "outputs": [],
   "source": [
    "xgb = XGBClassifier(base_score=0.5, booster=None, colsample_bylevel=1,\n",
    "              colsample_bynode=1, colsample_bytree=0.8, gamma=0.1, gpu_id=-1,\n",
    "              importance_type='gain', interaction_constraints=None,\n",
    "              learning_rate=0.1, max_delta_step=0, max_depth=5,\n",
    "              min_child_weight=1, monotone_constraints=None,\n",
    "              n_estimators=140, n_jobs=4, nthread=4, num_parallel_tree=1,\n",
    "              objective='binary:logistic', random_state=27, reg_alpha=0,\n",
    "              reg_lambda=1, scale_pos_weight=1, seed=27, subsample=0.8,\n",
    "              tree_method=None, validate_parameters=False, verbosity=None)\n",
    "model = xgb.fit(x_train,y_train)"
   ]
  },
  {
   "cell_type": "code",
   "execution_count": 10,
   "id": "12469206-55b0-44d8-9522-4d61107703a9",
   "metadata": {},
   "outputs": [
    {
     "name": "stdout",
     "output_type": "stream",
     "text": [
      "[[23414 17482]\n",
      " [15145 34219]]\n",
      "              precision    recall  f1-score   support\n",
      "\n",
      "           0       0.61      0.57      0.59     40896\n",
      "           1       0.66      0.69      0.68     49364\n",
      "\n",
      "    accuracy                           0.64     90260\n",
      "   macro avg       0.63      0.63      0.63     90260\n",
      "weighted avg       0.64      0.64      0.64     90260\n",
      "\n",
      "0.6328614511008827\n"
     ]
    }
   ],
   "source": [
    "y_pred = model.predict(x_test)\n",
    "cm = confusion_matrix(y_test,y_pred)\n",
    "print(cm)\n",
    "print(classification_report(y_test,y_pred))\n",
    "print(roc_auc_score(y_test,y_pred))"
   ]
  },
  {
   "cell_type": "code",
   "execution_count": 15,
   "id": "8b6345e4-b989-4402-a350-78f6eaac4e4c",
   "metadata": {},
   "outputs": [
    {
     "data": {
      "text/plain": [
       "array([0.05600864, 0.15659282, 0.19304322, 0.04568361, 0.04676829,\n",
       "       0.05969591, 0.06146501, 0.09130542, 0.28943714], dtype=float32)"
      ]
     },
     "execution_count": 15,
     "metadata": {},
     "output_type": "execute_result"
    }
   ],
   "source": [
    "xgb.feature_importances_"
   ]
  },
  {
   "cell_type": "markdown",
   "id": "c9efb697-2811-4d74-94a8-7f00b3d08e86",
   "metadata": {},
   "source": [
    "*logistic regression\n"
   ]
  },
  {
   "cell_type": "code",
   "execution_count": 16,
   "id": "a14f1191-69b4-408a-953d-4ff89c3d7fae",
   "metadata": {},
   "outputs": [
    {
     "name": "stdout",
     "output_type": "stream",
     "text": [
      "[[  115 40739]\n",
      " [   88 49318]]\n",
      "              precision    recall  f1-score   support\n",
      "\n",
      "           0       0.57      0.00      0.01     40854\n",
      "           1       0.55      1.00      0.71     49406\n",
      "\n",
      "    accuracy                           0.55     90260\n",
      "   macro avg       0.56      0.50      0.36     90260\n",
      "weighted avg       0.56      0.55      0.39     90260\n",
      "\n",
      "0.5005168708313114\n"
     ]
    }
   ],
   "source": [
    "from sklearn.datasets import load_iris\n",
    "from sklearn.linear_model import LogisticRegression\n",
    "\n",
    "model = LogisticRegression(random_state=0)\n",
    "model.fit(x_train, y_train)\n",
    "#clf.predict(X[:2, :])\n",
    "\n",
    "#clf.predict_proba(X[:2, :])\n",
    "\n",
    "y_pred = model.predict(x_test)\n",
    "cm = confusion_matrix(y_test,y_pred)\n",
    "print(cm)\n",
    "print(classification_report(y_test,y_pred))\n",
    "print(roc_auc_score(y_test,y_pred))\n",
    "#model.score(x_train, y_train)\n"
   ]
  },
  {
   "cell_type": "markdown",
   "id": "3ebf0555-7eb1-4cf7-8ea8-79391b7b698e",
   "metadata": {},
   "source": [
    "*SVM"
   ]
  },
  {
   "cell_type": "code",
   "execution_count": 17,
   "id": "bb65946b-3717-4b26-9379-5dac78bd1f09",
   "metadata": {},
   "outputs": [
    {
     "name": "stdout",
     "output_type": "stream",
     "text": [
      "[[  828 40026]\n",
      " [  558 48848]]\n",
      "              precision    recall  f1-score   support\n",
      "\n",
      "           0       0.60      0.02      0.04     40854\n",
      "           1       0.55      0.99      0.71     49406\n",
      "\n",
      "    accuracy                           0.55     90260\n",
      "   macro avg       0.57      0.50      0.37     90260\n",
      "weighted avg       0.57      0.55      0.40     90260\n",
      "\n",
      "0.5044865592458557\n"
     ]
    },
    {
     "data": {
      "text/plain": [
       "0.5503656104586749"
      ]
     },
     "execution_count": 17,
     "metadata": {},
     "output_type": "execute_result"
    }
   ],
   "source": [
    "import numpy as np\n",
    "from sklearn.pipeline import make_pipeline\n",
    "from sklearn.preprocessing import StandardScaler\n",
    "\n",
    "from sklearn.svm import SVC\n",
    "clf = make_pipeline(StandardScaler(), SVC(gamma='auto'))\n",
    "model = clf.fit(x_train, y_train)\n",
    "#clf.predict(X[:2, :])\n",
    "\n",
    "#clf.predict_proba(X[:2, :])\n",
    "\n",
    "y_pred = model.predict(x_test)\n",
    "cm = confusion_matrix(y_test,y_pred)\n",
    "print(cm)\n",
    "print(classification_report(y_test,y_pred))\n",
    "print(roc_auc_score(y_test,y_pred))\n",
    "model.score(x_test, y_test)\n"
   ]
  },
  {
   "cell_type": "markdown",
   "id": "8de7e756-a308-4eaf-a1f3-948ddf719e85",
   "metadata": {},
   "source": [
    "KNN"
   ]
  },
  {
   "cell_type": "code",
   "execution_count": 18,
   "id": "d64b0379-32c9-4008-b9b2-826e551ee864",
   "metadata": {},
   "outputs": [
    {
     "name": "stdout",
     "output_type": "stream",
     "text": [
      "Accuracy: 0.585863062264569\n"
     ]
    }
   ],
   "source": [
    "from sklearn.neighbors import KNeighborsClassifier\n",
    "# Create a KNN classifier object\n",
    "knn = KNeighborsClassifier(n_neighbors=3)  # Specify the number of neighbors (K)\n",
    "\n",
    "# Train the classifier\n",
    "knn.fit(x_train, y_train)\n",
    "\n",
    "# Make predictions on the test set\n",
    "y_pred = knn.predict(x_test)\n",
    "\n",
    "from sklearn.metrics import accuracy_score\n",
    "# Evaluate the accuracy of the classifier\n",
    "accuracy = accuracy_score(y_test, y_pred)\n",
    "print(\"Accuracy:\", accuracy)"
   ]
  },
  {
   "cell_type": "markdown",
   "id": "f641931d-5083-4dc3-9318-da85bcaae0de",
   "metadata": {},
   "source": [
    "Linear Discriminant Analysis (LDA)"
   ]
  },
  {
   "cell_type": "code",
   "execution_count": 21,
   "id": "be5759b2-ef73-44d6-8882-9a5a59780adf",
   "metadata": {},
   "outputs": [
    {
     "name": "stdout",
     "output_type": "stream",
     "text": [
      "Accuracy: 0.5488034566807002\n",
      "[[  828 40026]\n",
      " [  558 48848]]\n",
      "              precision    recall  f1-score   support\n",
      "\n",
      "           0       0.60      0.02      0.04     40854\n",
      "           1       0.55      0.99      0.71     49406\n",
      "\n",
      "    accuracy                           0.55     90260\n",
      "   macro avg       0.57      0.50      0.37     90260\n",
      "weighted avg       0.57      0.55      0.40     90260\n",
      "\n",
      "0.5044865592458557\n"
     ]
    }
   ],
   "source": [
    "from sklearn.discriminant_analysis import LinearDiscriminantAnalysis\n",
    "from sklearn.model_selection import train_test_split\n",
    "from sklearn.metrics import accuracy_score\n",
    "\n",
    "# Assuming you have your data in X (features) and y (labels)\n",
    "# Split the data into training and testing sets\n",
    "#X_train, X_test, y_train, y_test = train_test_split(X, y, test_size=0.2, random_state=42)\n",
    "\n",
    "# Create an LDA classifier object\n",
    "lda = LinearDiscriminantAnalysis()\n",
    "\n",
    "# Fit the LDA model on the training data\n",
    "lda.fit(x_train, y_train)\n",
    "\n",
    "# Make predictions on the test set\n",
    "y_pred = lda.predict(x_test)\n",
    "\n",
    "# Evaluate the accuracy of the classifier\n",
    "accuracy = accuracy_score(y_test, y_pred)\n",
    "print(\"Accuracy:\", accuracy)\n",
    "y_pred = model.predict(x_test)\n",
    "cm = confusion_matrix(y_test,y_pred)\n",
    "print(cm)\n",
    "print(classification_report(y_test,y_pred))\n",
    "print(roc_auc_score(y_test,y_pred))\n",
    "#model.score(x_train, y_train)"
   ]
  },
  {
   "cell_type": "code",
   "execution_count": null,
   "id": "eb2e64fe-cd91-46f0-a38f-a5d7867c97f5",
   "metadata": {},
   "outputs": [],
   "source": []
  },
  {
   "cell_type": "code",
   "execution_count": null,
   "id": "5730ce65-da00-403d-9819-ddecc636780e",
   "metadata": {},
   "outputs": [],
   "source": []
  },
  {
   "cell_type": "code",
   "execution_count": null,
   "id": "641e8bcc-c4d5-4d21-8b63-3b46dbcf4645",
   "metadata": {},
   "outputs": [],
   "source": []
  },
  {
   "cell_type": "code",
   "execution_count": null,
   "id": "e8e95b0b-73d1-43f5-ad44-a68b7e70a2fc",
   "metadata": {},
   "outputs": [],
   "source": []
  },
  {
   "cell_type": "code",
   "execution_count": null,
   "id": "1957f83e-240c-4fbb-873e-c6bd8a609a2f",
   "metadata": {},
   "outputs": [],
   "source": []
  },
  {
   "cell_type": "code",
   "execution_count": null,
   "id": "7d378a0c-ce78-4075-be58-342268daafc6",
   "metadata": {},
   "outputs": [],
   "source": []
  },
  {
   "cell_type": "code",
   "execution_count": null,
   "id": "d49a50b8-e738-413b-a01d-5f703eeb5e80",
   "metadata": {},
   "outputs": [],
   "source": []
  },
  {
   "cell_type": "code",
   "execution_count": null,
   "id": "56184098-eb13-44c2-8e97-aface27668e8",
   "metadata": {},
   "outputs": [],
   "source": []
  },
  {
   "cell_type": "code",
   "execution_count": null,
   "id": "ba0e364a-468c-4332-beba-57a8e2eb06b4",
   "metadata": {},
   "outputs": [],
   "source": []
  }
 ],
 "metadata": {
  "kernelspec": {
   "display_name": "Python 3 (ipykernel)",
   "language": "python",
   "name": "python3"
  },
  "language_info": {
   "codemirror_mode": {
    "name": "ipython",
    "version": 3
   },
   "file_extension": ".py",
   "mimetype": "text/x-python",
   "name": "python",
   "nbconvert_exporter": "python",
   "pygments_lexer": "ipython3",
   "version": "3.9.12"
  }
 },
 "nbformat": 4,
 "nbformat_minor": 5
}
